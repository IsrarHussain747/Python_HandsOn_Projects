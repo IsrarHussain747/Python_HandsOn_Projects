{
 "cells": [
  {
   "cell_type": "code",
   "execution_count": 1,
   "id": "16257dd2-d8ad-486a-9908-a9de908ac055",
   "metadata": {},
   "outputs": [
    {
     "name": "stdout",
     "output_type": "stream",
     "text": [
      "hello,world\n"
     ]
    }
   ],
   "source": [
    "## task 1\n",
    "print(\"hello,world\")"
   ]
  },
  {
   "cell_type": "code",
   "execution_count": 2,
   "id": "7d4f7e28-768a-4906-8537-b87778712251",
   "metadata": {},
   "outputs": [
    {
     "name": "stdout",
     "output_type": "stream",
     "text": [
      "*\n",
      "**\n",
      "***\n",
      "****\n",
      "\n"
     ]
    }
   ],
   "source": [
    "##task2\n",
    "print(\"*\\n**\\n***\\n****\\n\")"
   ]
  },
  {
   "cell_type": "code",
   "execution_count": 4,
   "id": "84d44711-1476-46fe-8588-ed923884ee84",
   "metadata": {},
   "outputs": [
    {
     "name": "stdout",
     "output_type": "stream",
     "text": [
      "68\n"
     ]
    }
   ],
   "source": [
    "a=23\n",
    "b=45\n",
    "c=a+b\n",
    "print(c)"
   ]
  },
  {
   "cell_type": "code",
   "execution_count": 12,
   "id": "3722aaa2-800e-4e4d-9ec3-5dad408c3960",
   "metadata": {},
   "outputs": [
    {
     "name": "stdout",
     "output_type": "stream",
     "text": [
      "-22\n"
     ]
    }
   ],
   "source": [
    "a=23\n",
    "b=45\n",
    "c=a-b\n",
    "print(c)"
   ]
  },
  {
   "cell_type": "code",
   "execution_count": 13,
   "id": "03e8cdf0-aa9c-4e84-87a2-bba103ef6f46",
   "metadata": {},
   "outputs": [
    {
     "name": "stdout",
     "output_type": "stream",
     "text": [
      "1035\n"
     ]
    }
   ],
   "source": [
    "a=23\n",
    "b=45\n",
    "c=a*b\n",
    "print(c)"
   ]
  },
  {
   "cell_type": "code",
   "execution_count": 14,
   "id": "3542592d-0324-4752-bc11-b6a12cc08e2b",
   "metadata": {},
   "outputs": [
    {
     "name": "stdout",
     "output_type": "stream",
     "text": [
      "0.5111111111111111\n"
     ]
    }
   ],
   "source": [
    "a=23\n",
    "b=45\n",
    "c=a/b\n",
    "print(c)"
   ]
  },
  {
   "cell_type": "code",
   "execution_count": 15,
   "id": "6e39c7ad-3e14-460a-af4d-d1b5872be845",
   "metadata": {},
   "outputs": [
    {
     "name": "stdout",
     "output_type": "stream",
     "text": [
      "0\n"
     ]
    }
   ],
   "source": [
    "a=23\n",
    "b=45\n",
    "c=a//b\n",
    "print(c)"
   ]
  },
  {
   "cell_type": "code",
   "execution_count": 16,
   "id": "d9da3acf-fb6a-44d2-8e24-9a0363f8effa",
   "metadata": {},
   "outputs": [
    {
     "name": "stdout",
     "output_type": "stream",
     "text": [
      "7---14---21---28---35\n"
     ]
    }
   ],
   "source": [
    "##\tCreate a variable x that stores an integer. Print out x, 2x, 3x, 4x, and 5x, each separated by three dashes, like below if x=7. (hint: use multiplication operator and print function)\n",
    "x=7\n",
    "print(f\"{x}---{x*2}---{x*3}---{x*4}---{x*5}\")\n",
    "\n"
   ]
  },
  {
   "cell_type": "code",
   "execution_count": 18,
   "id": "1a3ffd3f-784f-4dca-9f8c-897c9b694f11",
   "metadata": {},
   "outputs": [
    {
     "name": "stdin",
     "output_type": "stream",
     "text": [
      "Enter the num: 12\n"
     ]
    },
    {
     "data": {
      "text/plain": [
       "12"
      ]
     },
     "execution_count": 18,
     "metadata": {},
     "output_type": "execute_result"
    }
   ],
   "source": [
    "num=int(input(\"Enter the num:\"))\n",
    "num"
   ]
  },
  {
   "cell_type": "code",
   "execution_count": 19,
   "id": "8e573e26-86e5-49cf-93a5-cd5b3efc27d6",
   "metadata": {},
   "outputs": [
    {
     "name": "stdin",
     "output_type": "stream",
     "text": [
      "Enter the num: 12\n"
     ]
    },
    {
     "data": {
      "text/plain": [
       "12"
      ]
     },
     "execution_count": 19,
     "metadata": {},
     "output_type": "execute_result"
    }
   ],
   "source": [
    "float=int(input(\"Enter the num:\"))\n",
    "num"
   ]
  },
  {
   "cell_type": "code",
   "execution_count": 21,
   "id": "259b4faf-0678-404d-a6e4-31a18fca0607",
   "metadata": {},
   "outputs": [
    {
     "name": "stdout",
     "output_type": "stream",
     "text": [
      "\n",
      "H\n",
      "HH\n",
      "HHH\n",
      "HHHH\n",
      "HHHH\n",
      "\n"
     ]
    }
   ],
   "source": [
    "##\tWrite a program that produces the following output using variables instead of hardcoding:\n",
    "print(\"\"\"\n",
    "H\n",
    "HH\n",
    "HHH\n",
    "HHHH\n",
    "HHHH\n",
    "\"\"\")"
   ]
  },
  {
   "cell_type": "code",
   "execution_count": 2,
   "id": "81e630ce-c516-473f-88e5-62ddd0ce695f",
   "metadata": {},
   "outputs": [
    {
     "name": "stdin",
     "output_type": "stream",
     "text": [
      "enter the number 12\n"
     ]
    },
    {
     "name": "stdout",
     "output_type": "stream",
     "text": [
      "num is even\n"
     ]
    }
   ],
   "source": [
    "\n",
    "##Write a program that reads an integer and determines and prints whether it is odd or even.\n",
    "num=int(input(\"enter the number\"))\n",
    "if num%2==0:\n",
    "    print(\"num is even\")\n",
    "else:\n",
    "    print(\"num is odd\")\n",
    "\n"
   ]
  },
  {
   "cell_type": "code",
   "execution_count": 3,
   "id": "bff6336f-5f7e-4957-9e2f-dc4dc1e9e297",
   "metadata": {},
   "outputs": [
    {
     "name": "stdin",
     "output_type": "stream",
     "text": [
      "enter the value: 13\n"
     ]
    },
    {
     "name": "stdout",
     "output_type": "stream",
     "text": [
      "odd\n"
     ]
    }
   ],
   "source": [
    "num=int(input(\"enter the value:\"))\n",
    "if num%2==0:\n",
    "    print(\"even\")\n",
    "else:\n",
    "    print(\"odd\")"
   ]
  },
  {
   "cell_type": "code",
   "execution_count": null,
   "id": "c9a1a36b-565c-4f9c-97fd-0c8900297d94",
   "metadata": {},
   "outputs": [],
   "source": [
    "##Which of the following expressions results in SyntaxErrors? Identify the syntax SyntaxErrors and type the reason of error along with the correct code by mentioning its sequence number\n"
   ]
  },
  {
   "cell_type": "code",
   "execution_count": 4,
   "id": "3d945984-693b-49e2-8be4-5d6ec2aed24b",
   "metadata": {},
   "outputs": [
    {
     "data": {
      "text/plain": [
       "48"
      ]
     },
     "execution_count": 4,
     "metadata": {},
     "output_type": "execute_result"
    }
   ],
   "source": [
    "n= 6*----8\n",
    "n"
   ]
  },
  {
   "cell_type": "code",
   "execution_count": 5,
   "id": "0d54d7a5-c8e8-45a7-8988-5de39aaee426",
   "metadata": {},
   "outputs": [
    {
     "data": {
      "text/plain": [
       "12"
      ]
     },
     "execution_count": 5,
     "metadata": {},
     "output_type": "execute_result"
    }
   ],
   "source": [
    "p=(((4*3)))\n",
    "p"
   ]
  },
  {
   "cell_type": "code",
   "execution_count": 6,
   "id": "0168ddf0-1e53-49c0-8b95-98193b47c617",
   "metadata": {},
   "outputs": [
    {
     "data": {
      "text/plain": [
       "5"
      ]
     },
     "execution_count": 6,
     "metadata": {},
     "output_type": "execute_result"
    }
   ],
   "source": [
    "q=(-(-(-(-5))))\n",
    "q   "
   ]
  },
  {
   "cell_type": "code",
   "execution_count": 7,
   "id": "c6104a57-f097-4314-8a8d-bd312e3ad1ef",
   "metadata": {},
   "outputs": [
    {
     "ename": "SyntaxError",
     "evalue": "cannot assign to literal (2342944035.py, line 1)",
     "output_type": "error",
     "traceback": [
      "\u001b[1;36m  Cell \u001b[1;32mIn[7], line 1\u001b[1;36m\u001b[0m\n\u001b[1;33m    o= 8=people\u001b[0m\n\u001b[1;37m       ^\u001b[0m\n\u001b[1;31mSyntaxError\u001b[0m\u001b[1;31m:\u001b[0m cannot assign to literal\n"
     ]
    }
   ],
   "source": [
    "o= 8=people\n",
    "o"
   ]
  },
  {
   "cell_type": "code",
   "execution_count": 8,
   "id": "45cd5193-5b91-4720-9c71-218bd5b5fbfe",
   "metadata": {},
   "outputs": [
    {
     "data": {
      "text/plain": [
       "11"
      ]
     },
     "execution_count": 8,
     "metadata": {},
     "output_type": "execute_result"
    }
   ],
   "source": [
    "r=4+7\n",
    "r"
   ]
  },
  {
   "cell_type": "code",
   "execution_count": 10,
   "id": "19cf19eb-1ab8-4523-975d-5b6b7caf3b06",
   "metadata": {},
   "outputs": [
    {
     "name": "stdout",
     "output_type": "stream",
     "text": [
      "number\tsquare\tcube\n",
      "0\t0\t0\n",
      "1\t1\t1\n",
      "2\t4\t8\n",
      "3\t9\t27\n",
      "4\t16\t64\n",
      "5\t25\t125\n",
      "6\t36\t216\n",
      "7\t49\t343\n",
      "8\t64\t512\n",
      "9\t81\t729\n"
     ]
    }
   ],
   "source": [
    "## Using only the techniques you have learned so far, write a program that calculates the square and cube of the numbers from 0 to 10 and uses tabs to print the following table of values\n",
    "x=0\n",
    "print(\"number\\tsquare\\tcube\")\n",
    "print(f\"{x}\\t{x*2}\\t{x*3}\")\n",
    "x=1\n",
    "print(f\"{x}\\t{x**2}\\t{x**3}\")\n",
    "x=2\n",
    "print(f\"{x}\\t{x**2}\\t{x**3}\")\n",
    "x=3\n",
    "print(f\"{x}\\t{x**2}\\t{x**3}\")\n",
    "x=4\n",
    "print(f\"{x}\\t{x**2}\\t{x**3}\")\n",
    "x=5\n",
    "print(f\"{x}\\t{x**2}\\t{x**3}\")\n",
    "x=6\n",
    "print(f\"{x}\\t{x**2}\\t{x**3}\")\n",
    "x=7\n",
    "print(f\"{x}\\t{x**2}\\t{x**3}\")\n",
    "x=8\n",
    "print(f\"{x}\\t{x**2}\\t{x**3}\")\n",
    "x=9\n",
    "print(f\"{x}\\t{x**2}\\t{x**3}\")\n"
   ]
  },
  {
   "cell_type": "code",
   "execution_count": 12,
   "id": "22ea13e0-2859-4d95-9a69-882f9930af58",
   "metadata": {},
   "outputs": [
    {
     "name": "stdout",
     "output_type": "stream",
     "text": [
      "before swap 5 7\n",
      "after swap 7 5\n"
     ]
    }
   ],
   "source": [
    "## Write a program that assigns values to two variables and then swap their values. \n",
    "p,q=5,7\n",
    "print(\"before swap\",p,q)\n",
    "temp=p\n",
    "p=q\n",
    "q=temp\n",
    "print(\"after swap\",p,q)\n"
   ]
  },
  {
   "cell_type": "code",
   "execution_count": 13,
   "id": "e5eec7d0-8284-46e6-88d8-c56cad1ab77b",
   "metadata": {},
   "outputs": [
    {
     "name": "stdin",
     "output_type": "stream",
     "text": [
      "Enter the number: 12345\n"
     ]
    },
    {
     "name": "stdout",
     "output_type": "stream",
     "text": [
      "Reverse is: 5\n",
      "Reverse is: 54\n",
      "Reverse is: 543\n",
      "Reverse is: 5432\n",
      "Reverse is: 54321\n"
     ]
    }
   ],
   "source": [
    "##Write a program that inputs one five-digit number, generates its reverse and displays the reverse on screen.(Hint: Make use of the arithmetic operators modulus (%) and floor (// )\n",
    "num= int(input(\"Enter the number:\"))\n",
    "\n",
    "reverse=0\n",
    "while num >0:\n",
    "    remainder=num%10\n",
    "    reverse=(reverse*10)+remainder\n",
    "    num=num//10\n",
    "    print(\"Reverse is:\",reverse)"
   ]
  },
  {
   "cell_type": "code",
   "execution_count": 30,
   "id": "b03de1de-1875-46e6-abc6-fe0c9b7dc3cc",
   "metadata": {},
   "outputs": [
    {
     "name": "stdin",
     "output_type": "stream",
     "text": [
      "Enter the number 0.1\n"
     ]
    },
    {
     "name": "stdout",
     "output_type": "stream",
     "text": [
      "A\n"
     ]
    }
   ],
   "source": [
    "##\tWrite a program to prompt for a score between 0.0 and 1.0. If the score is out of range, print an error message. If the score is between 0.0 and 1.0, print a grade using the following table:\n",
    "num=float(input(\"Enter the number\"))\n",
    "\n",
    "if(num>=0.1):\n",
    "    print(\"A\")\n",
    "elif(num>=0.3):\n",
    "    print(\"B\")\n",
    "elif(num>=0.7):\n",
    "    print(\"C\")\n",
    "else:\n",
    "    print(\"error \")"
   ]
  },
  {
   "cell_type": "code",
   "execution_count": 31,
   "id": "263f69c3-b11f-4177-8299-1b771ca482cf",
   "metadata": {},
   "outputs": [
    {
     "name": "stdout",
     "output_type": "stream",
     "text": [
      "\n",
      "HHHHH\n",
      "HHHHH\n",
      "HHHH\n",
      "HH\n",
      "H\n",
      "\n"
     ]
    }
   ],
   "source": [
    "##\tWrite a program that produces the following output using variables instead of hardcoding:\n",
    "print(\"\"\"\n",
    "HHHHH\n",
    "HHHHH\n",
    "HHHH\n",
    "HH\n",
    "H\n",
    "\"\"\")"
   ]
  },
  {
   "cell_type": "code",
   "execution_count": 35,
   "id": "7a27f8a9-3a84-4c4a-a6f5-0b250bce0309",
   "metadata": {},
   "outputs": [
    {
     "name": "stdin",
     "output_type": "stream",
     "text": [
      "Enter the num1: 12\n",
      "Enter the num2: 23\n"
     ]
    },
    {
     "name": "stdout",
     "output_type": "stream",
     "text": [
      "35.0\n",
      "-11.0\n",
      "276.0\n",
      "0.5217391304347826\n"
     ]
    }
   ],
   "source": [
    "##\tWrite a program that asks the user to enter two numbers, obtains the two numbers from the user and prints the sum, product, difference, quotient and remainder of the two numbers. Sample output is as following:\n",
    "num1=float(input(\"Enter the num1:\"))\n",
    "num2=float(input(\"Enter the num2:\"))\n",
    "\n",
    "sum=num1+num2\n",
    "product=num1*num2\n",
    "difference=num1-num2\n",
    "product=num1*num2\n",
    "quotient=num1/num2\n",
    "\n",
    "print(sum)\n",
    "print(difference)\n",
    "print(product)\n",
    "print(quotient)"
   ]
  },
  {
   "cell_type": "code",
   "execution_count": 37,
   "id": "4516f8bd-27bd-459b-a3bc-7a427d4d758e",
   "metadata": {},
   "outputs": [
    {
     "name": "stdout",
     "output_type": "stream",
     "text": [
      "###\n",
      "# #\n",
      "# #\n",
      "###\n"
     ]
    }
   ],
   "source": [
    "##Using whatever we have learned so far, write a program that prints a box, an oval, an arrow and a diamond as follows:\n",
    "print(\"###\")\n",
    "print(\"# #\")\n",
    "print(\"# #\")\n",
    "print(\"###\")"
   ]
  },
  {
   "cell_type": "code",
   "execution_count": 39,
   "id": "dcf87c50-b4f5-4576-a10f-3a59f347adfd",
   "metadata": {},
   "outputs": [
    {
     "name": "stdout",
     "output_type": "stream",
     "text": [
      "#####\n",
      "#   #\n",
      "#   #\n",
      "#   #\n",
      "#   #\n",
      "#####\n"
     ]
    }
   ],
   "source": [
    "print(\"#####\")\n",
    "print(\"#   #\")\n",
    "print(\"#   #\")\n",
    "print(\"#   #\")\n",
    "print(\"#   #\")\n",
    "print(\"#####\")"
   ]
  },
  {
   "cell_type": "code",
   "execution_count": 45,
   "id": "035c9278-266a-45a9-87b4-73f338a6873a",
   "metadata": {},
   "outputs": [
    {
     "name": "stdout",
     "output_type": "stream",
     "text": [
      "*\n",
      "**\n",
      "****\n",
      "*\n",
      "*\n",
      "*\n",
      "*\n"
     ]
    }
   ],
   "source": [
    "print(\"*\")\n",
    "print(\"**\")\n",
    "print(\"****\")\n",
    "print(\"\"\"*\n",
    "*\n",
    "*\n",
    "*\"\"\")"
   ]
  },
  {
   "cell_type": "code",
   "execution_count": 46,
   "id": "a51ff41c-e39c-42e2-9c3b-709ee5638c42",
   "metadata": {},
   "outputs": [
    {
     "name": "stdout",
     "output_type": "stream",
     "text": [
      "*\n",
      "**\n",
      "*****\n",
      "******\n",
      "*****\n",
      "***\n",
      "*\n"
     ]
    }
   ],
   "source": [
    "print(\"*\")\n",
    "print(\"**\")\n",
    "print(\"*****\")\n",
    "print(\"******\")\n",
    "print(\"*****\")\n",
    "print(\"***\")\n",
    "print(\"*\")"
   ]
  },
  {
   "cell_type": "code",
   "execution_count": null,
   "id": "43c2c37f-a970-4e36-b66e-447c4de1cb53",
   "metadata": {},
   "outputs": [],
   "source": []
  }
 ],
 "metadata": {
  "kernelspec": {
   "display_name": "Python 3 (ipykernel)",
   "language": "python",
   "name": "python3"
  },
  "language_info": {
   "codemirror_mode": {
    "name": "ipython",
    "version": 3
   },
   "file_extension": ".py",
   "mimetype": "text/x-python",
   "name": "python",
   "nbconvert_exporter": "python",
   "pygments_lexer": "ipython3",
   "version": "3.12.4"
  }
 },
 "nbformat": 4,
 "nbformat_minor": 5
}
