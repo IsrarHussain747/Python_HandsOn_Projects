{
 "cells": [
  {
   "cell_type": "markdown",
   "id": "9b9cddd2-646a-473d-8211-c31f1a9b2849",
   "metadata": {},
   "source": [
    "Question:1\n",
    "Create a 2D NumPy array with dimensions 5x5. Replace all elements in the last column with the mean value of that column."
   ]
  },
  {
   "cell_type": "code",
   "execution_count": 4,
   "id": "9dd21528-4c2c-4e03-94cb-56271d584120",
   "metadata": {},
   "outputs": [
    {
     "name": "stdout",
     "output_type": "stream",
     "text": [
      "[[11. 12. 13. 14. 15.]\n",
      " [11. 12. 13. 14. 15.]\n",
      " [11. 12. 13. 14. 15.]\n",
      " [11. 12. 13. 14. 15.]\n",
      " [11. 12. 13. 14. 15.]]\n"
     ]
    }
   ],
   "source": [
    "import numpy as np\n",
    "array_2d=np.array([\n",
    "    [1,2,3,4,5],\n",
    "    [6,7,8,9,10],\n",
    "    [11,12,13,14,15],\n",
    "    [16,17,18,19,20],\n",
    "    [21,22,23,24,25],\n",
    "])\n",
    "mean = np.mean(array_2d, axis=0)\n",
    "\n",
    "array_2d_mean=np.full(array_2d.shape,mean)\n",
    "print(array_2d_mean)             "
   ]
  },
  {
   "cell_type": "markdown",
   "id": "6dac46cd-5353-48ca-a77c-6bee0c34b65b",
   "metadata": {},
   "source": [
    "Question 2:\n",
    "Create a 3x3 identity matrix"
   ]
  },
  {
   "cell_type": "code",
   "execution_count": 6,
   "id": "e938a732-1a69-422e-8133-f0c6ef3809bc",
   "metadata": {},
   "outputs": [
    {
     "data": {
      "text/plain": [
       "array([[1., 1., 1.],\n",
       "       [1., 1., 1.],\n",
       "       [1., 1., 1.]])"
      ]
     },
     "execution_count": 6,
     "metadata": {},
     "output_type": "execute_result"
    }
   ],
   "source": [
    "array=np.ones((3,3))\n",
    "array"
   ]
  },
  {
   "cell_type": "code",
   "execution_count": 8,
   "id": "4deb13c3-19c9-4791-bc0b-466c737dddf2",
   "metadata": {},
   "outputs": [
    {
     "data": {
      "text/plain": [
       "array([[1., 1., 1.],\n",
       "       [1., 1., 7.],\n",
       "       [1., 1., 1.]])"
      ]
     },
     "execution_count": 8,
     "metadata": {},
     "output_type": "execute_result"
    }
   ],
   "source": [
    "array[1][2]=7\n",
    "array"
   ]
  },
  {
   "cell_type": "code",
   "execution_count": 10,
   "id": "3534ce3c-4d34-44c0-adb8-413616b4470b",
   "metadata": {},
   "outputs": [
    {
     "data": {
      "text/plain": [
       "1.0"
      ]
     },
     "execution_count": 10,
     "metadata": {},
     "output_type": "execute_result"
    }
   ],
   "source": [
    "array[1][1]\n"
   ]
  },
  {
   "cell_type": "code",
   "execution_count": 11,
   "id": "0d4b944a-e90e-4eb8-a5c2-9d6928bee03e",
   "metadata": {},
   "outputs": [
    {
     "data": {
      "text/plain": [
       "array([  1.  , 125.75, 250.5 , 375.25, 500.  ])"
      ]
     },
     "execution_count": 11,
     "metadata": {},
     "output_type": "execute_result"
    }
   ],
   "source": [
    "np.linspace(1,500,5)"
   ]
  },
  {
   "cell_type": "markdown",
   "id": "30a86275-fe67-4c58-8959-0de65ea63452",
   "metadata": {},
   "source": [
    "Question:3\n",
    "Consider a (8,7) shape array, what is the index (x,y) of the 35th element?"
   ]
  },
  {
   "cell_type": "code",
   "execution_count": 12,
   "id": "a362a0e3-2653-4045-acbd-56fa67b6e543",
   "metadata": {},
   "outputs": [
    {
     "name": "stdout",
     "output_type": "stream",
     "text": [
      " the index of the 35th element is:(5, 0)\n"
     ]
    }
   ],
   "source": [
    "def find_index(element_index,rows,columns):\n",
    "    x=element_index//columns\n",
    "    y=element_index%columns\n",
    "    return(x,y)\n",
    "\n",
    "element_index=35\n",
    "rows=8\n",
    "columns=7\n",
    "index= find_index(element_index, rows, columns)\n",
    "print(f\" the index of the {element_index}th element is:{index}\")"
   ]
  },
  {
   "cell_type": "code",
   "execution_count": 14,
   "id": "e48ba488-7f1f-4fd3-9ba3-feade706aa32",
   "metadata": {},
   "outputs": [
    {
     "data": {
      "text/plain": [
       "array([[  2.,   4.,   6.,   8.,  10.,  12.,  14.,  16.,  18.,  20.],\n",
       "       [ 22.,  24.,  26.,  28.,  30.,  32.,  34.,  36.,  38.,  40.],\n",
       "       [ 42.,  44.,  46.,  48.,  50.,  52.,  54.,  56.,  58.,  60.],\n",
       "       [ 62.,  64.,  66.,  68.,  70.,  72.,  74.,  76.,  78.,  80.],\n",
       "       [ 82.,  84.,  86.,  88.,  90.,  92.,  94.,  96.,  98., 100.],\n",
       "       [102., 104., 106., 108., 110., 112., 114., 116., 118., 120.],\n",
       "       [122., 124., 126., 128., 130., 132., 134., 136., 138., 140.],\n",
       "       [142., 144., 146., 148., 150., 152., 154., 156., 158., 160.],\n",
       "       [162., 164., 166., 168., 170., 172., 174., 176., 178., 180.],\n",
       "       [182., 184., 186., 188., 190., 192., 194., 196., 198., 200.]])"
      ]
     },
     "execution_count": 14,
     "metadata": {},
     "output_type": "execute_result"
    }
   ],
   "source": [
    "a=np.linspace(2,200,100).reshape((10,10))\n",
    "a"
   ]
  },
  {
   "cell_type": "code",
   "execution_count": 15,
   "id": "40c9511f-fd61-4c78-ac74-8c57d067824f",
   "metadata": {},
   "outputs": [
    {
     "data": {
      "text/plain": [
       "9"
      ]
     },
     "execution_count": 15,
     "metadata": {},
     "output_type": "execute_result"
    }
   ],
   "source": [
    "a.sum(axis=0).argmax()"
   ]
  },
  {
   "cell_type": "code",
   "execution_count": 16,
   "id": "8240d678-f16e-455e-abf5-8fbe4d8a835c",
   "metadata": {},
   "outputs": [
    {
     "data": {
      "text/plain": [
       "array([[1, 0, 0, 0, 0],\n",
       "       [0, 2, 0, 0, 0],\n",
       "       [0, 0, 3, 0, 0],\n",
       "       [0, 0, 0, 4, 0],\n",
       "       [0, 0, 0, 0, 5]])"
      ]
     },
     "execution_count": 16,
     "metadata": {},
     "output_type": "execute_result"
    }
   ],
   "source": [
    "np.diag((1,2,3,4,5))\n"
   ]
  },
  {
   "cell_type": "markdown",
   "id": "fc029b33-8dde-4943-93a0-f41fb5e009c7",
   "metadata": {},
   "source": [
    "Question 4:\n",
    "Create a NumPy array with the numbers 1 to 100. Reshape it into a 10x10 array. Calculate the sum of each row and find the row with the maximum sum.(Hint: you can use 'np.random.randint' to create the 2d array and fill it with random numbers"
   ]
  },
  {
   "cell_type": "code",
   "execution_count": 24,
   "id": "34185cf9-d04c-433b-a59f-0355a310c716",
   "metadata": {},
   "outputs": [
    {
     "name": "stdout",
     "output_type": "stream",
     "text": [
      "Array\n",
      "[[  1   2   3   4   5   6   7   8   9  10]\n",
      " [ 11  12  13  14  15  16  17  18  19  20]\n",
      " [ 21  22  23  24  25  26  27  28  29  30]\n",
      " [ 31  32  33  34  35  36  37  38  39  40]\n",
      " [ 41  42  43  44  45  46  47  48  49  50]\n",
      " [ 51  52  53  54  55  56  57  58  59  60]\n",
      " [ 61  62  63  64  65  66  67  68  69  70]\n",
      " [ 71  72  73  74  75  76  77  78  79  80]\n",
      " [ 81  82  83  84  85  86  87  88  89  90]\n",
      " [ 91  92  93  94  95  96  97  98  99 100]]\n",
      "\n",
      "[ 55 155 255 355 455 555 655 755 855 955]\n",
      "\n",
      "9\n"
     ]
    }
   ],
   "source": [
    "array=np.arange(1,101)\n",
    "\n",
    "array_reshaped=array.reshape(10,10)\n",
    "\n",
    "row_sum=array_reshaped.sum(axis=1)\n",
    "\n",
    "max_sum_row_index=np.argmax(row_sum)\n",
    "\n",
    "print(\"Array\")\n",
    "\n",
    "print(array_reshaped)\n",
    "print()\n",
    "print(row_sum)\n",
    "print()\n",
    "print(max_sum_row_index)"
   ]
  },
  {
   "cell_type": "code",
   "execution_count": null,
   "id": "9b641c59-ed84-4d52-b685-561aec89d82d",
   "metadata": {},
   "outputs": [],
   "source": []
  }
 ],
 "metadata": {
  "kernelspec": {
   "display_name": "Python 3 (ipykernel)",
   "language": "python",
   "name": "python3"
  },
  "language_info": {
   "codemirror_mode": {
    "name": "ipython",
    "version": 3
   },
   "file_extension": ".py",
   "mimetype": "text/x-python",
   "name": "python",
   "nbconvert_exporter": "python",
   "pygments_lexer": "ipython3",
   "version": "3.12.4"
  }
 },
 "nbformat": 4,
 "nbformat_minor": 5
}
