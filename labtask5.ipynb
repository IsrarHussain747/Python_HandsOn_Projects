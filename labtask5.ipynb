{
 "cells": [
  {
   "cell_type": "code",
   "execution_count": null,
   "id": "b24a9d8f-50f8-43ca-ad4e-adac77f97b1a",
   "metadata": {},
   "outputs": [],
   "source": [
    "#loop"
   ]
  },
  {
   "cell_type": "code",
   "execution_count": null,
   "id": "602b9316-3975-453e-b79a-9959f396c9f0",
   "metadata": {},
   "outputs": [],
   "source": [
    "1.\tA variable ids refers to the list [4353, 2314, 2956, 3382, 9362, 3900]. Using list methods, do the following:\n",
    "a.\tRemove 3382 from the list.\n",
    "b.\tGet the index of 9362.\n",
    "c.\tInsert 4499 in the list after 9362.\n",
    "d.\tExtend the list by adding [5566, 1830] to it.\n",
    "e.\tReverse the list.\n",
    "f.\tSort the list.\n"
   ]
  },
  {
   "cell_type": "code",
   "execution_count": 12,
   "id": "1303f694-fe12-4dbe-8a52-52ece90afd56",
   "metadata": {},
   "outputs": [
    {
     "name": "stdout",
     "output_type": "stream",
     "text": [
      "[4353, 2314, 2956, 9362, 3900]\n"
     ]
    }
   ],
   "source": [
    "my_list=[4353, 2314, 2956, 3382, 9362, 3900]\n",
    "my_list.remove(3382)\n",
    "\n",
    "print(my_list)\n"
   ]
  },
  {
   "cell_type": "code",
   "execution_count": 22,
   "id": "1b0984fe-f5d0-4c50-9686-7f1f28b431f2",
   "metadata": {},
   "outputs": [
    {
     "name": "stdout",
     "output_type": "stream",
     "text": [
      "[4353, 2314, 2956, 3382, 9362, 3900, 9362]\n"
     ]
    }
   ],
   "source": [
    "my_list=[4353, 2314, 2956, 3382, 9362, 3900]\n",
    "my_list.insert(4499,9362)\n",
    "print(my_list)\n"
   ]
  },
  {
   "cell_type": "code",
   "execution_count": 28,
   "id": "4650f321-1144-4e94-b568-1bd57e57ee43",
   "metadata": {},
   "outputs": [
    {
     "name": "stdout",
     "output_type": "stream",
     "text": [
      "[4353, 2314, 2956, 3382, 9362, 3900, 5566, 1830]\n"
     ]
    }
   ],
   "source": [
    "my_list=[4353, 2314, 2956, 3382, 9362, 3900]\n",
    "my_list.extend([5566,1830])\n",
    "print(my_list)\n"
   ]
  },
  {
   "cell_type": "code",
   "execution_count": 31,
   "id": "2a6ef81b-89fe-4b5f-a12b-cbcd84599839",
   "metadata": {},
   "outputs": [
    {
     "data": {
      "text/plain": [
       "[3900, 9362, 3382, 2956, 2314, 4353]"
      ]
     },
     "execution_count": 31,
     "metadata": {},
     "output_type": "execute_result"
    }
   ],
   "source": [
    "my_list=[4353, 2314, 2956, 3382, 9362, 3900]\n",
    "my_list.reverse()\n",
    "my_list\n"
   ]
  },
  {
   "cell_type": "code",
   "execution_count": 32,
   "id": "e4c7f3ce-c592-43d0-8ea2-1c87c641f27a",
   "metadata": {},
   "outputs": [
    {
     "data": {
      "text/plain": [
       "[2314, 2956, 3382, 3900, 4353, 9362]"
      ]
     },
     "execution_count": 32,
     "metadata": {},
     "output_type": "execute_result"
    }
   ],
   "source": [
    "my_list=[4353, 2314, 2956, 3382, 9362, 3900]\n",
    "my_list.sort()\n",
    "my_list"
   ]
  },
  {
   "cell_type": "code",
   "execution_count": 40,
   "id": "da8dafec-b7ad-4e5f-bf94-ee284afb4acd",
   "metadata": {},
   "outputs": [
    {
     "name": "stdout",
     "output_type": "stream",
     "text": [
      "4\n"
     ]
    }
   ],
   "source": [
    "my_list=[4353, 2314, 2956, 3382, 9362, 3900]\n",
    "a=my_list.index(9362)\n",
    "print(a)\n"
   ]
  },
  {
   "cell_type": "code",
   "execution_count": null,
   "id": "842bfe88-95c6-4a0c-92f1-1fff86c43c4b",
   "metadata": {},
   "outputs": [],
   "source": [
    "2.Write a program that inputs a line of text. Output the text in uppercase letters and in lowercase letters using built-in functions."
   ]
  },
  {
   "cell_type": "code",
   "execution_count": 60,
   "id": "67dd0b80-e848-48be-8dd3-59ad0b70536a",
   "metadata": {},
   "outputs": [
    {
     "name": "stdout",
     "output_type": "stream",
     "text": [
      "ENTER A LINE OF TEXT:\n",
      "A line in upper and lower letter\n",
      "The line in upper case is:\n",
      "A LINE WITH UPPER AND LOWER CASE:\n",
      "the line in lower case is:\n",
      "a line with upper and lower case:\n"
     ]
    }
   ],
   "source": [
    "name=\"Enter a line of text:\"\n",
    "print(a)\n",
    "print(\"A line in upper and lower letter\")\n",
    "\n",
    "name2=\"The line in upper case is:\"\n",
    "print(name2)\n",
    "print(\"A LINE WITH UPPER AND LOWER CASE:\")\n",
    "name3=\"the line in lower case is:\"\n",
    "print(name3)\n",
    "print(\"a line with upper and lower case:\")\n"
   ]
  },
  {
   "cell_type": "code",
   "execution_count": 70,
   "id": "20fd3e5c-bde8-44e5-adc9-4a41fb4ff726",
   "metadata": {},
   "outputs": [
    {
     "name": "stdin",
     "output_type": "stream",
     "text": [
      "Enter the number: A L I\n"
     ]
    },
    {
     "data": {
      "text/plain": [
       "0"
      ]
     },
     "execution_count": 70,
     "metadata": {},
     "output_type": "execute_result"
    }
   ],
   "source": [
    "3##A simple way to estimate the number of words in a string is to count the number of spaces in the string. Write a program that asks the user for a string and returns an estimate of how many words are in the string.\n",
    "\n",
    "\n",
    "name=input(\"Enter the number:\")\n",
    "number.count(name)\n"
   ]
  },
  {
   "cell_type": "markdown",
   "id": "a16a0eea-286f-4281-bbba-26e8223bb921",
   "metadata": {},
   "source": [
    "##Write a program that asks the user to enter a string s and then converts s to lowercase, removes all the periods and commas from s, and prints the resulting string.(Hint: use the split method)"
   ]
  },
  {
   "cell_type": "code",
   "execution_count": 84,
   "id": "bf26e02d-68ec-40ed-ae12-0a6f0ce6fe68",
   "metadata": {},
   "outputs": [
    {
     "name": "stdin",
     "output_type": "stream",
     "text": [
      "Enter the string: s\n"
     ]
    },
    {
     "data": {
      "text/plain": [
       "'s'"
      ]
     },
     "execution_count": 84,
     "metadata": {},
     "output_type": "execute_result"
    }
   ],
   "source": [
    "name=input(\"Enter the string:\")\n",
    "name.lower()\n",
    "\n",
    "\n",
    "\n"
   ]
  },
  {
   "cell_type": "code",
   "execution_count": 82,
   "id": "f07e9abe-518c-40f0-86fd-a0453abb0304",
   "metadata": {},
   "outputs": [
    {
     "name": "stdin",
     "output_type": "stream",
     "text": [
      "Enter the string: s\n"
     ]
    },
    {
     "name": "stdout",
     "output_type": "stream",
     "text": [
      "s\n"
     ]
    }
   ],
   "source": [
    "name=input(\"Enter the string:\")\n",
    "name.split()\n",
    "print(name)"
   ]
  },
  {
   "cell_type": "markdown",
   "id": "eb211a86-1cf2-4945-a3b5-a7684ebe1455",
   "metadata": {},
   "source": [
    "##Write a program that rotates the elements of a list so that the element at the first index moves to the second index, the element in the second index moves to the third index, etc., and the element in the last index moves to the first index."
   ]
  },
  {
   "cell_type": "code",
   "execution_count": 106,
   "id": "7c9633d1-686e-4060-a8ac-da36401b2e2c",
   "metadata": {},
   "outputs": [
    {
     "name": "stdout",
     "output_type": "stream",
     "text": [
      "[2, 3, 4, 1]\n"
     ]
    }
   ],
   "source": [
    "my_list = [1,2,3,4]\n",
    "first_list=my_list.pop(0)\n",
    "my_list.append(first_list)\n",
    "print(my_list)"
   ]
  },
  {
   "cell_type": "markdown",
   "id": "ea97f0b4-0163-4b35-a9ee-bb283f64d1a2",
   "metadata": {},
   "source": [
    "#8.\tWrite a program that generates 100 random integers that are either 0 or 1. Then find the longest run of zeros, the largest number of zeros in a row. For instance, the longest run of zeros in [1,0,1,1,0,0,0,0,1,0,0] is 4."
   ]
  },
  {
   "cell_type": "code",
   "execution_count": 1,
   "id": "ac20bac2-163a-4123-b8e3-7fbed4836efc",
   "metadata": {},
   "outputs": [
    {
     "name": "stdout",
     "output_type": "stream",
     "text": [
      "Random Sequence: [0, 1, 1, 0, 1, 0, 1, 1, 0, 1, 1, 1, 1, 1, 0, 1, 0, 1, 0, 1, 1, 1, 1, 0, 0, 0, 1, 0, 1, 0, 1, 0, 1, 0, 0, 0, 0, 1, 0, 0, 1, 0, 0, 1, 1, 1, 0, 1, 0, 1, 0, 0, 0, 0, 1, 1, 1, 1, 0, 1, 1, 1, 1, 0, 1, 1, 1, 1, 0, 1, 0, 1, 1, 1, 1, 1, 0, 1, 0, 1, 0, 1, 1, 1, 0, 0, 0, 0, 1, 1, 1, 0, 0, 1, 1, 0, 1, 0, 1, 0]\n",
      "Longest run of zeros: 4\n"
     ]
    }
   ],
   "source": [
    "import random\n",
    "\n",
    "# Generate 100 random integers (either 0 or 1)\n",
    "random_integers = [random.randint(0, 1) for _ in range(100)]\n",
    "\n",
    "# Find the longest run of zeros\n",
    "max_run = 0\n",
    "current_run = 0\n",
    "\n",
    "for num in random_integers:\n",
    "    if num == 0:\n",
    "        current_run += 1\n",
    "        if current_run > max_run:\n",
    "            max_run = current_run\n",
    "    else:\n",
    "        current_run = 0\n",
    "\n",
    "# Output the result\n",
    "print(\"Random Sequence:\", random_integers)\n",
    "print(\"Longest run of zeros:\", max_run)\n"
   ]
  },
  {
   "cell_type": "markdown",
   "id": "b491a0f8-267c-435e-a64b-4c45113ae682",
   "metadata": {},
   "source": [
    "##.\tWhen playing games where you have to roll two dice, it is nice to know the odds of each roll. For instance, the odds of rolling a 12 are about 3%, and the odds of rolling a 7 are about 17%. You can compute these mathematically, but if you don’t know the math, you can write a program to do it. To do this, your program should simulate rolling two dice about 10,000 times and compute and print out the percentage of rolls that come out to be 2, 3, 4, . . . , 12. Print the results in a table format."
   ]
  },
  {
   "cell_type": "code",
   "execution_count": 2,
   "id": "821fbbf0-43d7-4a26-8bd1-3fa947b369d1",
   "metadata": {},
   "outputs": [
    {
     "name": "stdout",
     "output_type": "stream",
     "text": [
      "Sum | Percentage\n",
      "----------------\n",
      "  2 |     2.65%\n",
      "  3 |     5.59%\n",
      "  4 |     8.69%\n",
      "  5 |    10.95%\n",
      "  6 |    13.67%\n",
      "  7 |    16.96%\n",
      "  8 |    13.31%\n",
      "  9 |    11.25%\n",
      " 10 |     8.66%\n",
      " 11 |     5.40%\n",
      " 12 |     2.87%\n"
     ]
    }
   ],
   "source": [
    "import random\n",
    "\n",
    "# Initialize a dictionary to count the occurrences of each sum (from 2 to 12)\n",
    "roll_counts = {i: 0 for i in range(2, 13)}\n",
    "\n",
    "# Number of simulations\n",
    "num_simulations = 10000\n",
    "\n",
    "# Simulate rolling two dice 10,000 times\n",
    "for _ in range(num_simulations):\n",
    "    die1 = random.randint(1, 6)\n",
    "    die2 = random.randint(1, 6)\n",
    "    roll_sum = die1 + die2\n",
    "    roll_counts[roll_sum] += 1\n",
    "\n",
    "# Calculate and print the percentage of each outcome\n",
    "print(\"Sum | Percentage\")\n",
    "print(\"----------------\")\n",
    "for roll_sum in range(2, 13):\n",
    "    percentage = (roll_counts[roll_sum] / num_simulations) * 100\n",
    "    print(f\"{roll_sum:3} | {percentage:8.2f}%\")\n"
   ]
  },
  {
   "cell_type": "markdown",
   "id": "86acc760-3f66-4a6d-b56a-df39cb206815",
   "metadata": {},
   "source": [
    "#9.\tRead the size of the matrix from the user. Populate it with data from the user. Print the original ,transpose  and  product of the matrices on the screen."
   ]
  },
  {
   "cell_type": "code",
   "execution_count": 4,
   "id": "20acfd5a-b4ab-43cb-865c-1b93ade7df27",
   "metadata": {},
   "outputs": [
    {
     "name": "stdin",
     "output_type": "stream",
     "text": [
      "Enter the number of rows:  2\n",
      "Enter the number of columns:  2\n"
     ]
    },
    {
     "name": "stdout",
     "output_type": "stream",
     "text": [
      "Enter the elements of the matrix (2x2):\n"
     ]
    },
    {
     "name": "stdin",
     "output_type": "stream",
     "text": [
      "Element [1][1]:  1\n",
      "Element [1][2]:  2\n",
      "Element [2][1]:  3\n",
      "Element [2][2]:  4\n"
     ]
    },
    {
     "name": "stdout",
     "output_type": "stream",
     "text": [
      "\n",
      "Original Matrix:\n",
      "1 2\n",
      "3 4\n",
      "\n",
      "Transpose of the Matrix:\n",
      "1 3\n",
      "2 4\n",
      "\n",
      "Product of the Matrix and its Transpose:\n",
      "5 11\n",
      "11 25\n"
     ]
    }
   ],
   "source": [
    "import numpy as np\n",
    "\n",
    "# Function to read the matrix from the user\n",
    "def read_matrix(rows, cols):\n",
    "    matrix = []\n",
    "    print(f\"Enter the elements of the matrix ({rows}x{cols}):\")\n",
    "    for i in range(rows):\n",
    "        row = []\n",
    "        for j in range(cols):\n",
    "            value = int(input(f\"Element [{i+1}][{j+1}]: \"))\n",
    "            row.append(value)\n",
    "        matrix.append(row)\n",
    "    return matrix\n",
    "\n",
    "# Function to print a matrix\n",
    "def print_matrix(matrix):\n",
    "    for row in matrix:\n",
    "        print(\" \".join(map(str, row)))\n",
    "\n",
    "# Main program\n",
    "# Read the size of the matrix\n",
    "rows = int(input(\"Enter the number of rows: \"))\n",
    "cols = int(input(\"Enter the number of columns: \"))\n",
    "\n",
    "# Read the matrix from the user\n",
    "matrix = read_matrix(rows, cols)\n",
    "\n",
    "# Convert the matrix to a numpy array for easy manipulation\n",
    "matrix_np = np.array(matrix)\n",
    "\n",
    "# Calculate the transpose of the matrix\n",
    "transpose_matrix = matrix_np.T\n",
    "\n",
    "# Calculate the product of the matrix with its transpose\n",
    "if rows == cols:\n",
    "    product_matrix = np.dot(matrix_np, transpose_matrix)\n",
    "else:\n",
    "    print(\"\\nMatrix product is undefined for non-square matrices.\")\n",
    "    product_matrix = None\n",
    "\n",
    "# Display the results\n",
    "print(\"\\nOriginal Matrix:\")\n",
    "print_matrix(matrix)\n",
    "\n",
    "print(\"\\nTranspose of the Matrix:\")\n",
    "print_matrix(transpose_matrix)\n",
    "\n",
    "if product_matrix is not None:\n",
    "    print(\"\\nProduct of the Matrix and its Transpose:\")\n",
    "    print_matrix(product_matrix)\n"
   ]
  },
  {
   "cell_type": "code",
   "execution_count": null,
   "id": "2235fa00-b599-41c2-8ac6-17d0b3864992",
   "metadata": {},
   "outputs": [],
   "source": []
  }
 ],
 "metadata": {
  "kernelspec": {
   "display_name": "Python 3 (ipykernel)",
   "language": "python",
   "name": "python3"
  },
  "language_info": {
   "codemirror_mode": {
    "name": "ipython",
    "version": 3
   },
   "file_extension": ".py",
   "mimetype": "text/x-python",
   "name": "python",
   "nbconvert_exporter": "python",
   "pygments_lexer": "ipython3",
   "version": "3.12.4"
  }
 },
 "nbformat": 4,
 "nbformat_minor": 5
}
