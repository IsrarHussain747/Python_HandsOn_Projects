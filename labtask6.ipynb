{
 "cells": [
  {
   "cell_type": "code",
   "execution_count": null,
   "id": "1f596343-dc16-46b4-98e5-d93e3aaf6c8c",
   "metadata": {},
   "outputs": [],
   "source": [
    "##object oriented programing(OOP)"
   ]
  },
  {
   "cell_type": "markdown",
   "id": "66918586-3d72-4813-a46f-f855a0ec5e5b",
   "metadata": {},
   "source": [
    "1 Write a Python class called Rectangle that has attributes length and width. Implement methods to calculate the area and perimeter of the rectangle."
   ]
  },
  {
   "cell_type": "code",
   "execution_count": 1,
   "id": "ac9b4c90-b913-44a1-8bdd-85842c8b9912",
   "metadata": {},
   "outputs": [
    {
     "name": "stdout",
     "output_type": "stream",
     "text": [
      "Area 408, Perimeter92\n"
     ]
    }
   ],
   "source": [
    "class Rectangle():\n",
    "    def __init__(self,length,width):#constuctor\n",
    "        self.length = length\n",
    "        self.width = width\n",
    "\n",
    "    def tofind(self):\n",
    "       self.area = self.length*self.width\n",
    "       self.perimeter = (self.length+self.width)*2\n",
    "       return self.area , self.perimeter\n",
    "\n",
    "rectangle = Rectangle(length=12, width=34)\n",
    "area, perimeter =rectangle.tofind()\n",
    "print(f\"Area {area}, Perimeter{perimeter}\")"
   ]
  },
  {
   "cell_type": "markdown",
   "id": "7551171f-0faf-4c2a-889e-1a6146dc073a",
   "metadata": {},
   "source": [
    "2.\tCreate a class hierarchy in Python consisting of a base class called Animal, and derived classes Dog, Cat, and Bird. Each derived class should have its unique method. Instantiate objects of each class and demonstrate polymorphism by calling a common method on each object."
   ]
  },
  {
   "cell_type": "code",
   "execution_count": 2,
   "id": "37907b1f-239a-4ae1-87ff-5ef7c392689a",
   "metadata": {},
   "outputs": [
    {
     "name": "stdout",
     "output_type": "stream",
     "text": [
      "Buddy says Woof!\n",
      "Whiskers says Meow!\n",
      "Tweety says Tweet!\n",
      "Buddy is fetching the ball!\n",
      "Whiskers is scratching the furniture!\n",
      "Tweety is flying!\n"
     ]
    }
   ],
   "source": [
    "# Base class\n",
    "class Animal:\n",
    "    def __init__(self, name):\n",
    "        self.name = name\n",
    "    \n",
    "    def sound(self):\n",
    "        raise NotImplementedError(\"Subclasses must implement this method\")\n",
    "\n",
    "# Derived class Dog\n",
    "class Dog(Animal):\n",
    "    def sound(self):\n",
    "        return f\"{self.name} says Woof!\"\n",
    "    \n",
    "    def fetch(self):\n",
    "        return f\"{self.name} is fetching the ball!\"\n",
    "\n",
    "# Derived class Cat\n",
    "class Cat(Animal):\n",
    "    def sound(self):\n",
    "        return f\"{self.name} says Meow!\"\n",
    "    \n",
    "    def scratch(self):\n",
    "        return f\"{self.name} is scratching the furniture!\"\n",
    "\n",
    "# Derived class Bird\n",
    "class Bird(Animal):\n",
    "    def sound(self):\n",
    "        return f\"{self.name} says Tweet!\"\n",
    "    \n",
    "    def fly(self):\n",
    "        return f\"{self.name} is flying!\"\n",
    "\n",
    "# Demonstrating polymorphism\n",
    "animals = [Dog(\"Buddy\"), Cat(\"Whiskers\"), Bird(\"Tweety\")]\n",
    "\n",
    "for animal in animals:\n",
    "    print(animal.sound())\n",
    "\n",
    "# Demonstrating unique methods\n",
    "print(animals[0].fetch())   # Unique method for Dog\n",
    "print(animals[1].scratch()) # Unique method for Cat\n",
    "print(animals[2].fly())     # Unique method for Bird\n"
   ]
  },
  {
   "cell_type": "markdown",
   "id": "e0cf8143-490b-4e64-92de-38f88e5d297e",
   "metadata": {},
   "source": [
    "\n",
    "3.\tWrite a Python class called Shape with a method area() that returns the area of the shape. Create two subclasses, Rectangle and Circle, each overriding the area() method to calculate the area of the specific shape. Instantiate objects of each class and display their areas.\n"
   ]
  },
  {
   "cell_type": "code",
   "execution_count": 3,
   "id": "3ea6e17d-0456-4749-b422-1ac38d0b9c32",
   "metadata": {},
   "outputs": [
    {
     "name": "stdout",
     "output_type": "stream",
     "text": [
      "Area of  the rectangle:48\n",
      "hello\n",
      "Area of the circle:None\n"
     ]
    }
   ],
   "source": [
    "import math\n",
    "class shape:\n",
    "    def area(self):\n",
    "        print(\"hello\")\n",
    "        \n",
    "         \n",
    "\n",
    "class Rectangle(shape):\n",
    "    def __init__(self,length,width):\n",
    "        \n",
    "      self.length=length\n",
    "      self.width=width\n",
    "    def area(self):\n",
    "       return self.length*self.width\n",
    "\n",
    "class Circle(shape):\n",
    "    def __init__(self,radius):\n",
    "        self.radius=radius\n",
    "        def area(self):\n",
    "            return math.pi*(self.radius ** 2)\n",
    "\n",
    "rectangle=Rectangle(6,8)\n",
    "circle=Circle(7)\n",
    "print(f\"Area of  the rectangle:{rectangle.area()}\")\n",
    "print(f\"Area of the circle:{circle.area()}\")\n"
   ]
  },
  {
   "cell_type": "code",
   "execution_count": null,
   "id": "e6759614-c5c2-48f3-babc-9bacbdd4191b",
   "metadata": {},
   "outputs": [],
   "source": []
  }
 ],
 "metadata": {
  "kernelspec": {
   "display_name": "Python 3 (ipykernel)",
   "language": "python",
   "name": "python3"
  },
  "language_info": {
   "codemirror_mode": {
    "name": "ipython",
    "version": 3
   },
   "file_extension": ".py",
   "mimetype": "text/x-python",
   "name": "python",
   "nbconvert_exporter": "python",
   "pygments_lexer": "ipython3",
   "version": "3.12.4"
  }
 },
 "nbformat": 4,
 "nbformat_minor": 5
}
