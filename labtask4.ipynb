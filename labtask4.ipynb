{
 "cells": [
  {
   "cell_type": "code",
   "execution_count": null,
   "id": "b7d51c75-3e00-4c67-9eeb-2635d0832751",
   "metadata": {},
   "outputs": [],
   "source": [
    "#function"
   ]
  },
  {
   "cell_type": "code",
   "execution_count": null,
   "id": "2b134c09-8650-425c-bd7b-64420d622eb7",
   "metadata": {},
   "outputs": [],
   "source": [
    "##Task 1: Define a function called hypotenuse that calculates the length of the hypotenuse of a\n",
    "right triangle when the other two sides are given. Use this function in a program to determine the\n",
    "length of the hypotenuse for each of the following triangles. The function should take two\n",
    "arguments of float type and return the hypotenuse as float type too. The sample output is as\n",
    "following"
   ]
  },
  {
   "cell_type": "code",
   "execution_count": 1,
   "id": "1b5b8ade-2523-49c9-ba95-a7cccaa685ec",
   "metadata": {},
   "outputs": [
    {
     "name": "stdout",
     "output_type": "stream",
     "text": [
      "Side1    Side2    Hypotenuse\n",
      "3.0      4.0      5.00\n",
      "5.0      12.0     13.00\n",
      "8.0      15.0     17.00\n"
     ]
    }
   ],
   "source": [
    "import math\n",
    "\n",
    "def hypotenuse(side1: float, side2: float) -> float:\n",
    "    return math.sqrt(side1**2 + side2**2)\n",
    "\n",
    "# Test cases\n",
    "triangles = [\n",
    "    (3.0, 4.0),\n",
    "    (5.0, 12.0),\n",
    "    (8.0, 15.0)\n",
    "]\n",
    "\n",
    "print(\"Side1    Side2    Hypotenuse\")\n",
    "for side1, side2 in triangles:\n",
    "    hypotenuse_length = hypotenuse(side1, side2)\n",
    "    print(f\"{side1:<8} {side2:<8} {hypotenuse_length:.2f}\")\n"
   ]
  },
  {
   "cell_type": "code",
   "execution_count": null,
   "id": "dc662bba-d8fb-4df2-9f62-7ed6195a6434",
   "metadata": {},
   "outputs": [],
   "source": [
    "##Task 2: Write a function distance that calculates the distance between two points (x1, y1) and\n",
    "(x2, y2). All numbers and return values should be of floating type. Use this function in your\n",
    "program. "
   ]
  },
  {
   "cell_type": "code",
   "execution_count": 14,
   "id": "ec278ae6-5cdc-4094-b256-33a107e92de5",
   "metadata": {},
   "outputs": [
    {
     "name": "stdout",
     "output_type": "stream",
     "text": [
      "Point1       Point2       Distance\n",
      "(0.0, 0.0)   (3.0, 4.0)   5.00\n",
      "(1.0, 2.0)   (4.0, 6.0)   5.00\n",
      "(-1.0, -1.0)   (2.0, 3.0)   5.00\n"
     ]
    }
   ],
   "source": [
    "import math\n",
    "\n",
    "def distance(x1: float, y1: float, x2: float, y2: float) -> float:\n",
    "    return math.sqrt((x2 - x1)**2 + (y2 - y1)**2)\n",
    "\n",
    "# Test cases\n",
    "points = [\n",
    "    (0.0, 0.0, 3.0, 4.0),\n",
    "    (1.0, 2.0, 4.0, 6.0),\n",
    "    (-1.0, -1.0, 2.0, 3.0)\n",
    "]\n",
    "\n",
    "print(\"Point1       Point2       Distance\")\n",
    "for x1, y1, x2, y2 in points:\n",
    "    dist = distance(x1, y1, x2, y2)\n",
    "    print(f\"({x1}, {y1})   ({x2}, {y2})   {dist:.2f}\")\n",
    "\n"
   ]
  },
  {
   "cell_type": "code",
   "execution_count": null,
   "id": "b8e38971-573e-4fd9-8ca1-87b594f4deb4",
   "metadata": {},
   "outputs": [],
   "source": [
    "##Task 3: Write a function reversed that takes an integer value (between 1-9999) and returns the\n",
    "number with its digits reversed. For example, given the number 7631, the function should return\n",
    "1367. Demonstrate the use of this function in your program with the following sample output"
   ]
  },
  {
   "cell_type": "code",
   "execution_count": 15,
   "id": "6dc6082b-44fd-40f6-a155-0fdde1ffee3d",
   "metadata": {},
   "outputs": [
    {
     "name": "stdout",
     "output_type": "stream",
     "text": [
      "Original  Reversed\n",
      "7631      1367\n",
      "1234      4321\n",
      "9001      1009\n",
      "4321      1234\n"
     ]
    }
   ],
   "source": [
    "def reversed(number: int) -> int:\n",
    "    # Convert the number to a string, reverse the string, and convert it back to an integer\n",
    "    return int(str(number)[::-1])\n",
    "\n",
    "# Test cases\n",
    "numbers = [7631, 1234, 9001, 4321]\n",
    "\n",
    "print(\"Original  Reversed\")\n",
    "for num in numbers:\n",
    "    reversed_num = reversed(num)\n",
    "    print(f\"{num:<9} {reversed_num}\")\n"
   ]
  },
  {
   "cell_type": "code",
   "execution_count": null,
   "id": "ce301cc6-1789-4349-89ab-bb79bc57bbf2",
   "metadata": {},
   "outputs": [],
   "source": [
    "##Task 4: Write a function is_prime that accepts an integer as argument and returns True if the\n",
    "number is prime and False otherwise. Use this function in your program to print on screen all the\n",
    "4 digit prime number"
   ]
  },
  {
   "cell_type": "code",
   "execution_count": 20,
   "id": "ea9bdfc5-8caf-4895-85a5-a2c44d2b7f93",
   "metadata": {},
   "outputs": [
    {
     "name": "stdout",
     "output_type": "stream",
     "text": [
      "4-Digit Prime Numbers:\n",
      "2 3 5 7 11 13 17 19 23 29 31 37 41 43 47 53 59 "
     ]
    }
   ],
   "source": [
    "def is_prime(number: int) -> bool:\n",
    "    if number <= 1:\n",
    "        return False\n",
    "    for i in range(2, int(number**0.5) + 1):\n",
    "        if number % i == 0:\n",
    "            return False\n",
    "    return True\n",
    "\n",
    "# Printing all 4-digit prime numbers\n",
    "print(\"4-Digit Prime Numbers:\")\n",
    "for num in range(1,60):\n",
    "    if is_prime(num):\n",
    "        print(num, end=' ')\n",
    "\n"
   ]
  },
  {
   "cell_type": "code",
   "execution_count": null,
   "id": "819a8f76-0f6a-4ba1-b22d-b92df9d1d217",
   "metadata": {},
   "outputs": [],
   "source": [
    "##Task 5: Write a function qualityPoints that inputs a student’s average and returns 4 if a\n",
    "student's average is 90-100, 3 if the average is 80-89, 2 if the average is 70-79, 1 if the average is\n",
    "60-69, and 0 if the average is lower than 60. Use this function in your program that reads average\n",
    "from the student and prints on screen the corresponding GPA as shown below"
   ]
  },
  {
   "cell_type": "code",
   "execution_count": 22,
   "id": "4a967bac-a2c0-4d0a-840f-fbe17d24a222",
   "metadata": {},
   "outputs": [
    {
     "name": "stdin",
     "output_type": "stream",
     "text": [
      "Enter the student's average (0-100):  70\n"
     ]
    },
    {
     "name": "stdout",
     "output_type": "stream",
     "text": [
      "The corresponding GPA is: 2\n"
     ]
    }
   ],
   "source": [
    "def qualityPoints(average):\n",
    "    if 90 <= average <= 100:\n",
    "        return 4\n",
    "    elif 80 <= average <= 89:\n",
    "        return 3\n",
    "    elif 70 <= average <= 79:\n",
    "        return 2\n",
    "    elif 60 <= average <= 69:\n",
    "        return 1\n",
    "    else:\n",
    "        return 0\n",
    "\n",
    "# Main program\n",
    "def main():\n",
    "    # Read the student's average from input\n",
    "    try:\n",
    "        average = float(input(\"Enter the student's average (0-100): \"))\n",
    "\n",
    "        # Validate the input\n",
    "        if 0 <= average <= 100:\n",
    "            # Get the GPA using the qualityPoints function\n",
    "            gpa = qualityPoints(average)\n",
    "\n",
    "            # Print the corresponding GPA\n",
    "            print(f\"The corresponding GPA is: {gpa}\")\n",
    "        else:\n",
    "            print(\"Please enter a valid average between 0 and 100.\")\n",
    "    except ValueError:\n",
    "        print(\"Invalid input! Please enter a numerical value.\")\n",
    "\n",
    "if __name__ == \"__main__\":\n",
    "    main()\n"
   ]
  },
  {
   "cell_type": "code",
   "execution_count": null,
   "id": "2a3e127d-96e3-40ee-8604-fee5f770674d",
   "metadata": {},
   "outputs": [],
   "source": [
    "##Task 6: Write a function is_bouncy that accepts an integer as argument and returns True if the\n",
    "number is bouncy and False otherwise. Use this function in your program to print on screen all\n",
    "the 4 digit bouncy numbers along with the total count of the 4-digit bouncy numbers."
   ]
  },
  {
   "cell_type": "code",
   "execution_count": 2,
   "id": "2ec8ffe1-0c63-4f5e-a539-4ed3f7332240",
   "metadata": {},
   "outputs": [
    {
     "name": "stdout",
     "output_type": "stream",
     "text": [
      "Total count of 4-digit bouncy numbers: 0\n"
     ]
    }
   ],
   "source": [
    "def is_bouncy(number):\n",
    "    # Convert the number to a string for easy digit comparison\n",
    "    num_str = str(number)\n",
    "    \n",
    "    # Flags to check if the number is increasing or decreasing\n",
    "    increasing = decreasing = True\n",
    "    \n",
    "    # Iterate through the digits of the number\n",
    "    for i in range(len(num_str) - 1):\n",
    "        if num_str[i] < num_str[i + 1]:\n",
    "            decreasing = False\n",
    "        elif num_str[i] > num_str[i + 1]:\n",
    "            increasing = False\n",
    "    \n",
    "    # A number is bouncy if it is neither increasing nor decreasing\n",
    "    return not (increasing or decreasing)\n",
    "\n",
    "def main():\n",
    "    count = 0\n",
    "    \n",
    "    # Find all 4-digit bouncy numbers\n",
    "    for num in range(10, 50):\n",
    "        if is_bouncy(num):\n",
    "            print(num)\n",
    "            count += 1\n",
    "    \n",
    "    # Print the total count of 4-digit bouncy numbers\n",
    "    print(f\"Total count of 4-digit bouncy numbers: {count}\")\n",
    "\n",
    "if __name__ == \"__main__\":\n",
    "    main()\n"
   ]
  },
  {
   "cell_type": "code",
   "execution_count": null,
   "id": "21aa5899-b9fb-420c-9d4f-a6188454ef1f",
   "metadata": {},
   "outputs": [],
   "source": [
    "##Task 7: Write a function called number_of_factors that takes an integer and returns how\n",
    "many factors the number has."
   ]
  },
  {
   "cell_type": "code",
   "execution_count": 24,
   "id": "b42f66a8-0be7-4828-bbf0-bad10214976f",
   "metadata": {},
   "outputs": [
    {
     "name": "stdin",
     "output_type": "stream",
     "text": [
      "Enter a positive integer:  8\n"
     ]
    },
    {
     "name": "stdout",
     "output_type": "stream",
     "text": [
      "The number of factors of 8 is: 4\n"
     ]
    }
   ],
   "source": [
    "import math\n",
    "\n",
    "def number_of_factors(n):\n",
    "    if n <= 0:\n",
    "        raise ValueError(\"Input must be a positive integer.\")\n",
    "    \n",
    "    count = 0\n",
    "    # Iterate from 1 to the square root of n\n",
    "    for i in range(1, int(math.sqrt(n)) + 1):\n",
    "        if n % i == 0:\n",
    "            # If i is a factor, n // i is also a factor\n",
    "            if i == n // i:\n",
    "                count += 1  # i and n // i are the same, count only once\n",
    "            else:\n",
    "                count += 2  # Count both i and n // i\n",
    "    return count\n",
    "\n",
    "# Example usage\n",
    "if __name__ == \"__main__\":\n",
    "    try:\n",
    "        number = int(input(\"Enter a positive integer: \"))\n",
    "        print(f\"The number of factors of {number} is: {number_of_factors(number)}\")\n",
    "    except ValueError as ve:\n",
    "        print(ve)\n"
   ]
  },
  {
   "cell_type": "code",
   "execution_count": null,
   "id": "f0d854ce-35a9-4c21-a15d-a7f4312db3d1",
   "metadata": {},
   "outputs": [],
   "source": [
    "##Task 8: Write a function called binom that takes two integers n and k and returns the binomial\n",
    "coefficient ."
   ]
  },
  {
   "cell_type": "code",
   "execution_count": 27,
   "id": "578afdf9-45b4-4472-9c2f-449c3929058e",
   "metadata": {},
   "outputs": [
    {
     "name": "stdin",
     "output_type": "stream",
     "text": [
      "Enter n (non-negative integer):  6\n",
      "Enter k (non-negative integer and k ≤ n):  9\n"
     ]
    },
    {
     "name": "stdout",
     "output_type": "stream",
     "text": [
      "Invalid values: k should be between 0 and n.\n"
     ]
    }
   ],
   "source": [
    "import math\n",
    "\n",
    "def binom(n, k):\n",
    "    # Validate input\n",
    "    if k < 0 or k > n:\n",
    "        raise ValueError(\"Invalid values: k should be between 0 and n.\")\n",
    "    \n",
    "    # Calculate the binomial coefficient using the formula\n",
    "    return math.comb(n, k)\n",
    "\n",
    "# Example usage\n",
    "if __name__ == \"__main__\":\n",
    "    try:\n",
    "        n = int(input(\"Enter n (non-negative integer): \"))\n",
    "        k = int(input(\"Enter k (non-negative integer and k ≤ n): \"))\n",
    "        print(f\"The binomial coefficient C({n}, {k}) is: {binom(n, k)}\")\n",
    "    except ValueError as ve:\n",
    "        print(ve)\n"
   ]
  },
  {
   "cell_type": "code",
   "execution_count": null,
   "id": "68401a0f-6092-4b59-8216-2a0d6f89ac91",
   "metadata": {},
   "outputs": [],
   "source": []
  }
 ],
 "metadata": {
  "kernelspec": {
   "display_name": "Python 3 (ipykernel)",
   "language": "python",
   "name": "python3"
  },
  "language_info": {
   "codemirror_mode": {
    "name": "ipython",
    "version": 3
   },
   "file_extension": ".py",
   "mimetype": "text/x-python",
   "name": "python",
   "nbconvert_exporter": "python",
   "pygments_lexer": "ipython3",
   "version": "3.12.4"
  }
 },
 "nbformat": 4,
 "nbformat_minor": 5
}
